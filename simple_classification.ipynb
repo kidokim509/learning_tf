{
 "cells": [
  {
   "cell_type": "code",
   "execution_count": 27,
   "metadata": {},
   "outputs": [],
   "source": [
    "import numpy as np\n",
    "import tensorflow as tf"
   ]
  },
  {
   "cell_type": "code",
   "execution_count": 28,
   "metadata": {},
   "outputs": [],
   "source": [
    "# [털, 날개]\n",
    "x_data = np.array([[0,0],\n",
    "                   [1,0],\n",
    "                   [1,1],\n",
    "                   [0,0],\n",
    "                   [0,0],\n",
    "                   [0,1]])\n",
    "# [기타, 포유류, 조류]\n",
    "y_data = np.array([[1,0,0],\n",
    "                  [0,1,0],\n",
    "                  [0,0,1],\n",
    "                  [1,0,0],\n",
    "                  [1,0,0],\n",
    "                  [0,0,1]])"
   ]
  },
  {
   "cell_type": "code",
   "execution_count": 31,
   "metadata": {},
   "outputs": [
    {
     "name": "stdout",
     "output_type": "stream",
     "text": [
      "Tensor(\"Placeholder_26:0\", dtype=float32)\n",
      "Tensor(\"Placeholder_27:0\", dtype=float32)\n",
      "<tf.Variable 'Variable_24:0' shape=(2, 3) dtype=float32_ref>\n",
      "<tf.Variable 'Variable_25:0' shape=(3,) dtype=float32_ref>\n",
      "Tensor(\"Add_12:0\", shape=(?, 3), dtype=float32)\n",
      "Tensor(\"Relu_12:0\", shape=(?, 3), dtype=float32)\n",
      "Tensor(\"Softmax_12:0\", shape=(?, 3), dtype=float32)\n",
      "Tensor(\"Mean_14:0\", dtype=float32)\n"
     ]
    }
   ],
   "source": [
    "X = tf.placeholder(tf.float32)\n",
    "print(X)\n",
    "Y = tf.placeholder(tf.float32)\n",
    "print(Y)\n",
    "\n",
    "W = tf.Variable(tf.random_uniform([2,3], -1., 1.))\n",
    "print(W)\n",
    "b = tf.Variable(tf.zeros([3]))\n",
    "print(b)\n",
    "\n",
    "L = tf.add(tf.matmul(X, W), b)\n",
    "print(L)\n",
    "L = tf.nn.relu(L)\n",
    "print(L)\n",
    "\n",
    "model = tf.nn.softmax(L)\n",
    "print(model)\n",
    "cost = tf.reduce_mean(-tf.reduce_sum(Y * tf.log(model), axis=1))\n",
    "print(cost)"
   ]
  },
  {
   "cell_type": "code",
   "execution_count": 32,
   "metadata": {},
   "outputs": [
    {
     "name": "stdout",
     "output_type": "stream",
     "text": [
      "10 1.16469\n",
      "20 1.16242\n",
      "30 1.16018\n",
      "40 1.15798\n",
      "50 1.15582\n",
      "60 1.15369\n",
      "70 1.15159\n",
      "80 1.14953\n",
      "90 1.1475\n",
      "100 1.14551\n"
     ]
    }
   ],
   "source": [
    "optimizer = tf.train.GradientDescentOptimizer(learning_rate=0.01)\n",
    "train_op = optimizer.minimize(cost)\n",
    "\n",
    "init = tf.global_variables_initializer()\n",
    "sess = tf.Session()\n",
    "sess.run(init)\n",
    "\n",
    "for step in range(100):\n",
    "    sess.run(train_op, feed_dict={X:x_data, Y:y_data})\n",
    "    \n",
    "    if (step + 1) % 10 == 0:\n",
    "        print(step+1, sess.run(cost, feed_dict={X:x_data, Y:y_data}))"
   ]
  },
  {
   "cell_type": "code",
   "execution_count": 33,
   "metadata": {},
   "outputs": [
    {
     "name": "stdout",
     "output_type": "stream",
     "text": [
      "예측값: [0 2 0 0 0 0]\n",
      "실제값: [0 1 2 0 0 2]\n"
     ]
    }
   ],
   "source": [
    "prediction = tf.argmax(model, axis=1)\n",
    "target = tf.argmax(Y, axis=1)\n",
    "print('예측값:', sess.run(prediction, feed_dict={X:x_data}))\n",
    "print('실제값:', sess.run(target, feed_dict={Y:y_data}))"
   ]
  },
  {
   "cell_type": "code",
   "execution_count": 34,
   "metadata": {},
   "outputs": [
    {
     "name": "stdout",
     "output_type": "stream",
     "text": [
      "정확도: 50.00\n"
     ]
    }
   ],
   "source": [
    "is_correct = tf.equal(prediction, target)\n",
    "accuracy = tf.reduce_mean(tf.cast(is_correct, tf.float32))\n",
    "print('정확도: %.2f' % sess.run(accuracy * 100, feed_dict={X:x_data, Y:y_data}))"
   ]
  },
  {
   "cell_type": "code",
   "execution_count": null,
   "metadata": {},
   "outputs": [],
   "source": []
  }
 ],
 "metadata": {
  "kernelspec": {
   "display_name": "Python 3",
   "language": "python",
   "name": "python3"
  },
  "language_info": {
   "codemirror_mode": {
    "name": "ipython",
    "version": 3
   },
   "file_extension": ".py",
   "mimetype": "text/x-python",
   "name": "python",
   "nbconvert_exporter": "python",
   "pygments_lexer": "ipython3",
   "version": "3.6.4"
  }
 },
 "nbformat": 4,
 "nbformat_minor": 2
}
