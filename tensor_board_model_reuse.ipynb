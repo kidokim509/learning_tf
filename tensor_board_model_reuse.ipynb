{
 "cells": [
  {
   "cell_type": "code",
   "execution_count": 1,
   "metadata": {},
   "outputs": [
    {
     "name": "stderr",
     "output_type": "stream",
     "text": [
      "/Users/olaf/.pyenv/versions/anaconda3/envs/tfp3/lib/python3.6/importlib/_bootstrap.py:219: RuntimeWarning: compiletime version 3.5 of module 'tensorflow.python.framework.fast_tensor_util' does not match runtime version 3.6\n",
      "  return f(*args, **kwds)\n"
     ]
    }
   ],
   "source": [
    "import tensorflow as tf\n",
    "import numpy as np"
   ]
  },
  {
   "cell_type": "code",
   "execution_count": 2,
   "metadata": {},
   "outputs": [],
   "source": [
    "data = np.loadtxt('data.csv', delimiter=',', unpack=True, dtype='float32')\n",
    "\n",
    "x_data = np.transpose(data[0:2])\n",
    "y_data = np.transpose(data[2:])"
   ]
  },
  {
   "cell_type": "code",
   "execution_count": 3,
   "metadata": {},
   "outputs": [],
   "source": [
    "global_step = tf.Variable(0, trainable=False, name='global_step')"
   ]
  },
  {
   "cell_type": "code",
   "execution_count": 20,
   "metadata": {},
   "outputs": [
    {
     "data": {
      "text/plain": [
       "<tf.Tensor 'cost:0' shape=() dtype=string>"
      ]
     },
     "execution_count": 20,
     "metadata": {},
     "output_type": "execute_result"
    }
   ],
   "source": [
    "X = tf.placeholder(tf.float32)\n",
    "Y = tf.placeholder(tf.float32)\n",
    "\n",
    "with tf.name_scope('layer1'):\n",
    "    W1 = tf.Variable(tf.random_uniform([2, 10], -1., 1.), name='W1')\n",
    "    L1 = tf.nn.relu(tf.matmul(X, W1))\n",
    "\n",
    "with tf.name_scope('layer2'):\n",
    "    W2 = tf.Variable(tf.random_uniform([10, 20], -1., 1.), name='W2')\n",
    "    L2 = tf.nn.relu(tf.matmul(L1, W2))\n",
    "\n",
    "with tf.name_scope('output'):\n",
    "    W3 = tf.Variable(tf.random_uniform([20, 3], -1., 1.), name='W3')\n",
    "    model = tf.matmul(L2, W3)\n",
    "\n",
    "with tf.name_scope('optimizer'):\n",
    "    cost = tf.reduce_mean(tf.nn.softmax_cross_entropy_with_logits(labels=Y, logits=model))\n",
    "\n",
    "    optimizer = tf.train.AdamOptimizer(learning_rate = 0.01)\n",
    "    train_op = optimizer.minimize(cost, global_step=global_step)\n",
    "\n",
    "tf.summary.scalar('cost', cost)"
   ]
  },
  {
   "cell_type": "code",
   "execution_count": 23,
   "metadata": {},
   "outputs": [
    {
     "name": "stdout",
     "output_type": "stream",
     "text": [
      "Step 1 Cost: 1.660\n",
      "Step 2 Cost: 1.497\n",
      "Step 3 Cost: 1.353\n",
      "Step 4 Cost: 1.228\n",
      "Step 5 Cost: 1.123\n",
      "Step 6 Cost: 1.036\n",
      "Step 7 Cost: 0.966\n",
      "Step 8 Cost: 0.908\n",
      "Step 9 Cost: 0.861\n",
      "Step 10 Cost: 0.823\n",
      "Step 11 Cost: 0.792\n",
      "Step 12 Cost: 0.765\n",
      "Step 13 Cost: 0.742\n",
      "Step 14 Cost: 0.722\n",
      "Step 15 Cost: 0.705\n",
      "Step 16 Cost: 0.690\n",
      "Step 17 Cost: 0.676\n",
      "Step 18 Cost: 0.664\n",
      "Step 19 Cost: 0.653\n",
      "Step 20 Cost: 0.643\n",
      "Step 21 Cost: 0.634\n",
      "Step 22 Cost: 0.626\n",
      "Step 23 Cost: 0.618\n",
      "Step 24 Cost: 0.611\n",
      "Step 25 Cost: 0.605\n",
      "Step 26 Cost: 0.599\n",
      "Step 27 Cost: 0.594\n",
      "Step 28 Cost: 0.590\n",
      "Step 29 Cost: 0.586\n",
      "Step 30 Cost: 0.582\n",
      "Step 31 Cost: 0.578\n",
      "Step 32 Cost: 0.576\n",
      "Step 33 Cost: 0.573\n",
      "Step 34 Cost: 0.570\n",
      "Step 35 Cost: 0.568\n",
      "Step 36 Cost: 0.566\n",
      "Step 37 Cost: 0.565\n",
      "Step 38 Cost: 0.563\n",
      "Step 39 Cost: 0.562\n",
      "Step 40 Cost: 0.561\n",
      "Step 41 Cost: 0.560\n",
      "Step 42 Cost: 0.559\n",
      "Step 43 Cost: 0.558\n",
      "Step 44 Cost: 0.558\n",
      "Step 45 Cost: 0.557\n",
      "Step 46 Cost: 0.557\n",
      "Step 47 Cost: 0.556\n",
      "Step 48 Cost: 0.556\n",
      "Step 49 Cost: 0.555\n",
      "Step 50 Cost: 0.555\n",
      "Step 51 Cost: 0.555\n",
      "Step 52 Cost: 0.554\n",
      "Step 53 Cost: 0.554\n",
      "Step 54 Cost: 0.554\n",
      "Step 55 Cost: 0.554\n",
      "Step 56 Cost: 0.553\n",
      "Step 57 Cost: 0.553\n",
      "Step 58 Cost: 0.553\n",
      "Step 59 Cost: 0.553\n",
      "Step 60 Cost: 0.553\n",
      "Step 61 Cost: 0.553\n",
      "Step 62 Cost: 0.552\n",
      "Step 63 Cost: 0.552\n",
      "Step 64 Cost: 0.552\n",
      "Step 65 Cost: 0.552\n",
      "Step 66 Cost: 0.552\n",
      "Step 67 Cost: 0.552\n",
      "Step 68 Cost: 0.552\n",
      "Step 69 Cost: 0.552\n",
      "Step 70 Cost: 0.552\n",
      "Step 71 Cost: 0.552\n",
      "Step 72 Cost: 0.552\n",
      "Step 73 Cost: 0.552\n",
      "Step 74 Cost: 0.551\n",
      "Step 75 Cost: 0.551\n",
      "Step 76 Cost: 0.551\n",
      "Step 77 Cost: 0.551\n",
      "Step 78 Cost: 0.551\n",
      "Step 79 Cost: 0.551\n",
      "Step 80 Cost: 0.551\n",
      "Step 81 Cost: 0.551\n",
      "Step 82 Cost: 0.551\n",
      "Step 83 Cost: 0.551\n",
      "Step 84 Cost: 0.551\n",
      "Step 85 Cost: 0.551\n",
      "Step 86 Cost: 0.551\n",
      "Step 87 Cost: 0.551\n",
      "Step 88 Cost: 0.551\n",
      "Step 89 Cost: 0.551\n",
      "Step 90 Cost: 0.551\n",
      "Step 91 Cost: 0.551\n",
      "Step 92 Cost: 0.551\n",
      "Step 93 Cost: 0.551\n",
      "Step 94 Cost: 0.551\n",
      "Step 95 Cost: 0.551\n",
      "Step 96 Cost: 0.551\n",
      "Step 97 Cost: 0.551\n",
      "Step 98 Cost: 0.551\n",
      "Step 99 Cost: 0.551\n",
      "Step 100 Cost: 0.551\n"
     ]
    }
   ],
   "source": [
    "sess = tf.Session()\n",
    "saver = tf.train.Saver(tf.global_variables())\n",
    "\n",
    "ckpt = tf.train.get_checkpoint_state('model')\n",
    "if ckpt and tf.train.checkpoint_exists(ckpt.model_checkpoint_path):\n",
    "    save.restore(sess, ckpt.model_checkpoint_path)\n",
    "else:\n",
    "    sess.run(tf.global_variables_initializer())\n",
    "\n",
    "merged = tf.summary.merge_all()\n",
    "writer = tf.summary.FileWriter('logs', sess.graph)\n",
    "\n",
    "for step in range(100):\n",
    "    sess.run(train_op, feed_dict={X:x_data, Y:y_data})\n",
    "    print('Step %d' % sess.run(global_step), 'Cost: %.3f' % sess.run(cost, feed_dict={X:x_data, Y:y_data}))\n",
    "\n",
    "summary = sess.run(merged, feed_dict={X:x_data, Y:y_data})\n",
    "writer.add_summary(summary, global_step=sess.run(global_step))"
   ]
  },
  {
   "cell_type": "code",
   "execution_count": 24,
   "metadata": {},
   "outputs": [
    {
     "name": "stdout",
     "output_type": "stream",
     "text": [
      "예측값: [0 1 2 0 0 2]\n",
      "실제값: [0 1 2 0 0 2]\n",
      "정확도: 100.00\n"
     ]
    }
   ],
   "source": [
    "saver.save(sess, 'model/dnn.ckpt', global_step=global_step)\n",
    "\n",
    "prediction = tf.argmax(model, 1)\n",
    "target = tf.argmax(Y, 1)\n",
    "print('예측값:', sess.run(prediction, feed_dict={X:x_data, Y:y_data}))\n",
    "print('실제값:', sess.run(target, feed_dict={X:x_data, Y:y_data}))\n",
    "\n",
    "is_correct = tf.equal(prediction, target)\n",
    "accuracy = tf.reduce_mean(tf.cast(is_correct, tf.float32))\n",
    "print('정확도: %.2f' % sess.run(accuracy * 100, feed_dict={X:x_data, Y:y_data}))"
   ]
  },
  {
   "cell_type": "code",
   "execution_count": null,
   "metadata": {},
   "outputs": [],
   "source": []
  }
 ],
 "metadata": {
  "kernelspec": {
   "display_name": "Python 3",
   "language": "python",
   "name": "python3"
  },
  "language_info": {
   "codemirror_mode": {
    "name": "ipython",
    "version": 3
   },
   "file_extension": ".py",
   "mimetype": "text/x-python",
   "name": "python",
   "nbconvert_exporter": "python",
   "pygments_lexer": "ipython3",
   "version": "3.6.4"
  }
 },
 "nbformat": 4,
 "nbformat_minor": 2
}
