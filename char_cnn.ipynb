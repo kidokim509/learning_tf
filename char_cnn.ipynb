{
 "cells": [
  {
   "cell_type": "code",
   "execution_count": 1,
   "metadata": {},
   "outputs": [
    {
     "name": "stderr",
     "output_type": "stream",
     "text": [
      "/Users/olaf/.pyenv/versions/anaconda3/envs/tfp3/lib/python3.6/importlib/_bootstrap.py:219: RuntimeWarning: compiletime version 3.5 of module 'tensorflow.python.framework.fast_tensor_util' does not match runtime version 3.6\n",
      "  return f(*args, **kwds)\n"
     ]
    }
   ],
   "source": [
    "import tensorflow as tf\n",
    "import numpy as np\n",
    "import pandas"
   ]
  },
  {
   "cell_type": "markdown",
   "metadata": {},
   "source": [
    "# 입력 데이터 준비"
   ]
  },
  {
   "cell_type": "code",
   "execution_count": 2,
   "metadata": {},
   "outputs": [],
   "source": [
    "# LOAD TEXT DATA\n",
    "dbpedia = tf.contrib.learn.datasets.load_dataset(\n",
    "      'dbpedia', test_with_fake_data=False, size='large')"
   ]
  },
  {
   "cell_type": "code",
   "execution_count": 3,
   "metadata": {},
   "outputs": [],
   "source": [
    "MAX_DOCUMENT_LENGTH = 1014\n",
    "NUM_ALPHABET = 255 # ASCII SPACE\n",
    "NUM_LABEL = 15\n",
    "ASCII_SPACE = 32\n",
    "NUM_SAMPLES = dbpedia.train.data.shape[0]\n",
    "NUM_TESTSET = dbpedia.test.data.shape[0]"
   ]
  },
  {
   "cell_type": "code",
   "execution_count": 4,
   "metadata": {},
   "outputs": [],
   "source": [
    "def concat_col(a, b):\n",
    "    return a+b\n",
    "v_concat_col = np.vectorize(concat_col)\n",
    "\n",
    "# 데이터 순서를 섞기 위한 마스크 값.\n",
    "# DBPEDIA 데이터가 LABEL 순으로 정렬되어있어서 미니배치마다 LABEL을 골고루 학습하기 위해 데이터의 순서를 섞어야 함.\n",
    "mask = np.arange(NUM_SAMPLES)\n",
    "np.random.shuffle(mask)\n",
    "\n",
    "large_train_x = dbpedia.train.data[mask]\n",
    "large_train_y = dbpedia.train.target[mask]\n",
    "\n",
    "char_processor = tf.contrib.learn.preprocessing.ByteProcessor(MAX_DOCUMENT_LENGTH)\n",
    "\n",
    "#x_test = np.char.upper(v_concat_col(dbpedia.test.data[:,0], dbpedia.test.data[:,1]))\n",
    "#y_test = dbpedia.test.target\n",
    "#x_test = np.array(list(char_processor.transform(x_test)))\n",
    "#x_hot_test = np.zeros([NUM_SAMPLES, NUM_ALPHABET, MAX_DOCUMENT_LENGTH])\n",
    "#for i in range(NUM_SAMPLES):\n",
    "#    x_hot_test[i][x_test, np.arange(MAX_DOCUMENT_LENGTH)] = 1\n",
    "#y_hot_test = np.zeros([NUM_SAMPLES, NUM_LABEL])\n",
    "#y_hot_test[np.arange(NUM_TESTSET), y_test] = 1"
   ]
  },
  {
   "cell_type": "markdown",
   "metadata": {},
   "source": [
    "# 모델 빌드"
   ]
  },
  {
   "cell_type": "code",
   "execution_count": 5,
   "metadata": {},
   "outputs": [
    {
     "name": "stdout",
     "output_type": "stream",
     "text": [
      "Tensor(\"layer1/MaxPool:0\", shape=(?, 1, 336, 256), dtype=float32)\n"
     ]
    }
   ],
   "source": [
    "global_step = tf.Variable(0, trainable=False, name='global_step')\n",
    "\n",
    "# X: NUM_ALPHABET X MAX_DOCUMENT_LENGTH (1014)\n",
    "\n",
    "# data_format = the default format \"NHWC\", the data is stored in the order of: \n",
    "#    [batch, height, width, channels]\n",
    "X = tf.placeholder(tf.float32, [None, 1, MAX_DOCUMENT_LENGTH, NUM_ALPHABET])\n",
    "Y = tf.placeholder(tf.float32, [None, NUM_LABEL])\n",
    "\n",
    "# filter: A Tensor. Must have the same type as input. A 4-D tensor of shape:\n",
    "#    [filter_height, filter_width, in_channels, out_channels]\n",
    "with tf.name_scope('layer1'):\n",
    "    K1 = tf.Variable(tf.random_normal([1, 7, NUM_ALPHABET, 256], stddev=0.01))\n",
    "    L1 = tf.nn.conv2d(X, K1, strides=[1,1,1,1], padding='VALID')\n",
    "    L1 = tf.nn.relu(L1)\n",
    "    L1 = tf.nn.max_pool(L1, ksize=[1,1,3,1], strides=[1,1,3,1], padding='VALID')\n",
    "    print(L1) # L1: None, 1, 336, 256"
   ]
  },
  {
   "cell_type": "code",
   "execution_count": 6,
   "metadata": {},
   "outputs": [
    {
     "name": "stdout",
     "output_type": "stream",
     "text": [
      "Tensor(\"layer2/MaxPool:0\", shape=(?, 1, 110, 256), dtype=float32)\n"
     ]
    }
   ],
   "source": [
    "with tf.name_scope('layer2'):\n",
    "    K2 = tf.Variable(tf.random_normal([1, 7, 256, 256], stddev=0.01))\n",
    "    L2 = tf.nn.conv2d(L1, K2, strides=[1,1,1,1], padding='VALID')\n",
    "    L2 = tf.nn.relu(L2)\n",
    "    L2 = tf.nn.max_pool(L2, ksize=[1,1,3,1], strides=[1,1,3,1], padding='VALID')\n",
    "    print(L2) # L2: None, 1, 110, 256"
   ]
  },
  {
   "cell_type": "code",
   "execution_count": 7,
   "metadata": {},
   "outputs": [
    {
     "name": "stdout",
     "output_type": "stream",
     "text": [
      "Tensor(\"layer3/Relu:0\", shape=(?, 1, 108, 256), dtype=float32)\n"
     ]
    }
   ],
   "source": [
    "with tf.name_scope('layer3'):\n",
    "    K3 = tf.Variable(tf.random_normal([1, 3, 256, 256], stddev=0.01))\n",
    "    L3 = tf.nn.conv2d(L2, K3, strides=[1,1,1,1], padding='VALID')\n",
    "    L3 = tf.nn.relu(L3)\n",
    "    print(L3) # L3: None, 1, 108, 256"
   ]
  },
  {
   "cell_type": "code",
   "execution_count": 8,
   "metadata": {},
   "outputs": [
    {
     "name": "stdout",
     "output_type": "stream",
     "text": [
      "Tensor(\"layer4/Relu:0\", shape=(?, 1, 106, 256), dtype=float32)\n"
     ]
    }
   ],
   "source": [
    "with tf.name_scope('layer4'):\n",
    "    K4 = tf.Variable(tf.random_normal([1, 3, 256, 256], stddev=0.01))\n",
    "    L4 = tf.nn.conv2d(L3, K4, strides=[1,1,1,1], padding='VALID')\n",
    "    L4 = tf.nn.relu(L4)\n",
    "    print(L4) # L4: None, 1, 106, 256"
   ]
  },
  {
   "cell_type": "code",
   "execution_count": 9,
   "metadata": {},
   "outputs": [
    {
     "name": "stdout",
     "output_type": "stream",
     "text": [
      "Tensor(\"layer5/Relu:0\", shape=(?, 1, 104, 256), dtype=float32)\n"
     ]
    }
   ],
   "source": [
    "with tf.name_scope('layer5'):\n",
    "    K5 = tf.Variable(tf.random_normal([1, 3, 256, 256], stddev=0.01))\n",
    "    L5 = tf.nn.conv2d(L4, K5, strides=[1,1,1,1], padding='VALID')\n",
    "    L5 = tf.nn.relu(L5)\n",
    "    print(L5) # L5: None, 1, 104, 256"
   ]
  },
  {
   "cell_type": "code",
   "execution_count": 10,
   "metadata": {},
   "outputs": [
    {
     "name": "stdout",
     "output_type": "stream",
     "text": [
      "Tensor(\"layer6/MaxPool:0\", shape=(?, 1, 34, 256), dtype=float32)\n"
     ]
    }
   ],
   "source": [
    "with tf.name_scope('layer6'):\n",
    "    K6 = tf.Variable(tf.random_normal([1, 3, 256, 256], stddev=0.01))\n",
    "    L6 = tf.nn.conv2d(L5, K6, strides=[1,1,1,1], padding='VALID')\n",
    "    L6 = tf.nn.relu(L6)\n",
    "    L6 = tf.nn.max_pool(L6, ksize=[1,1,3,1], strides=[1,1,3,1], padding='VALID')\n",
    "    print(L6) # L6: None, 1, 34, 256"
   ]
  },
  {
   "cell_type": "code",
   "execution_count": 11,
   "metadata": {},
   "outputs": [
    {
     "name": "stdout",
     "output_type": "stream",
     "text": [
      "Tensor(\"layer7/dropout/mul:0\", shape=(?, 1024), dtype=float32)\n",
      "Tensor(\"layer8/dropout/mul:0\", shape=(?, 1024), dtype=float32)\n",
      "Tensor(\"output/MatMul:0\", shape=(?, 15), dtype=float32)\n"
     ]
    }
   ],
   "source": [
    "with tf.name_scope('layer7'):\n",
    "    W7 = tf.Variable(tf.random_normal([1*34*256, 1024], stddev=0.01))\n",
    "    L7 = tf.reshape(L6, [-1, 1*34*256])\n",
    "    L7 = tf.matmul(L7, W7)\n",
    "    L7 = tf.nn.relu(L7)\n",
    "    L7 = tf.nn.dropout(L7, 0.8)\n",
    "    print(L7) # L7: 1, 1024\n",
    "\n",
    "with tf.name_scope('layer8'):\n",
    "    W8 = tf.Variable(tf.random_normal([1024, 1024], stddev=0.1))\n",
    "    L8 = tf.matmul(L7, W8)\n",
    "    L8 = tf.nn.relu(L8)\n",
    "    L8 = tf.nn.dropout(L8, 0.8)\n",
    "    print(L8) # L8: 1, 1024\n",
    "\n",
    "with tf.name_scope('output'):\n",
    "    W9 = tf.Variable(tf.random_normal([1024, NUM_LABEL], stddev=0.01))\n",
    "    model = tf.matmul(L8, W9)\n",
    "    print(model) # L9: 1, 2"
   ]
  },
  {
   "cell_type": "code",
   "execution_count": 12,
   "metadata": {},
   "outputs": [],
   "source": [
    "with tf.name_scope('optimizer'):\n",
    "    cost = tf.reduce_mean(tf.nn.softmax_cross_entropy_with_logits(labels=Y, logits=model))\n",
    "    training = tf.train.AdamOptimizer(0.01).minimize(cost, global_step=global_step)\n",
    "    tf.summary.scalar('cost', cost)\n",
    "    tf.summary.histogram(\"Weights1\", K1)\n",
    "    W1 = tf.reshape(K1, [-1, NUM_ALPHABET, 7, 1])\n",
    "    tf.summary.image(\"Filter1\", W1, max_outputs=3)"
   ]
  },
  {
   "cell_type": "markdown",
   "metadata": {},
   "source": [
    "# 모델 학습"
   ]
  },
  {
   "cell_type": "code",
   "execution_count": 15,
   "metadata": {},
   "outputs": [
    {
     "name": "stdout",
     "output_type": "stream",
     "text": [
      "total batch: 56000\n",
      "Epoch:01, Mini Batch: 0000, Cost: 2.708, Accuracy: 0.10\n",
      "Epoch:01, Mini Batch: 0001, Cost: 49.501, Accuracy: 0.20\n",
      "Epoch:01, Mini Batch: 0002, Cost: 2.707, Accuracy: 0.00\n",
      "Epoch:01, Mini Batch: 0003, Cost: 3.033, Accuracy: 0.10\n",
      "Epoch:01, Mini Batch: 0004, Cost: 2.705, Accuracy: 0.00\n",
      "Epoch:01, Mini Batch: 0005, Cost: 2.684, Accuracy: 0.20\n",
      "Epoch:01, Mini Batch: 0006, Cost: 52.288, Accuracy: 0.10\n",
      "Epoch:01, Mini Batch: 0007, Cost: 2.897, Accuracy: 0.10\n",
      "Epoch:01, Mini Batch: 0008, Cost: 2.698, Accuracy: 0.10\n",
      "Epoch:01, Mini Batch: 0009, Cost: 2.708, Accuracy: 0.00\n",
      "Epoch:01, Mini Batch: 0010, Cost: 2.708, Accuracy: 0.00\n",
      "Epoch:01, Mini Batch: 0011, Cost: 2.708, Accuracy: 0.00\n",
      "Epoch:01, Mini Batch: 0012, Cost: 2.708, Accuracy: 0.00\n",
      "Epoch:01, Mini Batch: 0013, Cost: 2.708, Accuracy: 0.00\n",
      "Epoch:01, Mini Batch: 0014, Cost: 2.708, Accuracy: 0.00\n",
      "Epoch:01, Mini Batch: 0015, Cost: 2.708, Accuracy: 0.00\n",
      "Epoch:01, Mini Batch: 0016, Cost: 2.708, Accuracy: 0.00\n",
      "Epoch:01, Mini Batch: 0017, Cost: 2.708, Accuracy: 0.00\n",
      "Epoch:01, Mini Batch: 0018, Cost: 2.708, Accuracy: 0.00\n",
      "Epoch:01, Mini Batch: 0019, Cost: 2.708, Accuracy: 0.00\n",
      "Epoch:01, Mini Batch: 0020, Cost: 2.708, Accuracy: 0.00\n",
      "Epoch:01, Mini Batch: 0021, Cost: 2.708, Accuracy: 0.00\n",
      "Epoch:01, Mini Batch: 0022, Cost: 2.708, Accuracy: 0.00\n",
      "Epoch:01, Mini Batch: 0023, Cost: 2.708, Accuracy: 0.00\n",
      "Epoch:01, Mini Batch: 0024, Cost: 2.708, Accuracy: 0.00\n",
      "Epoch:01, Mini Batch: 0025, Cost: 2.708, Accuracy: 0.00\n",
      "Epoch:01, Mini Batch: 0026, Cost: 2.708, Accuracy: 0.00\n",
      "Epoch:01, Mini Batch: 0027, Cost: 2.708, Accuracy: 0.00\n",
      "Epoch:01, Mini Batch: 0028, Cost: 2.708, Accuracy: 0.00\n",
      "Epoch:01, Mini Batch: 0029, Cost: 2.708, Accuracy: 0.00\n",
      "Epoch:01, Mini Batch: 0030, Cost: 2.708, Accuracy: 0.00\n",
      "Epoch:01, Mini Batch: 0031, Cost: 2.708, Accuracy: 0.00\n",
      "Epoch:01, Mini Batch: 0032, Cost: 2.708, Accuracy: 0.00\n",
      "Epoch:01, Mini Batch: 0033, Cost: 2.708, Accuracy: 0.00\n",
      "Epoch:01, Mini Batch: 0034, Cost: 2.708, Accuracy: 0.00\n",
      "Epoch:01, Mini Batch: 0035, Cost: 2.708, Accuracy: 0.00\n",
      "Epoch:01, Mini Batch: 0036, Cost: 2.708, Accuracy: 0.00\n",
      "Epoch:01, Mini Batch: 0037, Cost: 2.708, Accuracy: 0.00\n",
      "Epoch:01, Mini Batch: 0038, Cost: 2.708, Accuracy: 0.00\n",
      "Epoch:01, Mini Batch: 0039, Cost: 2.708, Accuracy: 0.00\n",
      "Epoch:01, Mini Batch: 0040, Cost: 2.708, Accuracy: 0.00\n",
      "Epoch:01, Mini Batch: 0041, Cost: 2.708, Accuracy: 0.00\n",
      "Epoch:01, Mini Batch: 0042, Cost: 2.708, Accuracy: 0.00\n",
      "Epoch:01, Mini Batch: 0043, Cost: 2.708, Accuracy: 0.00\n",
      "Epoch:01, Mini Batch: 0044, Cost: 2.708, Accuracy: 0.00\n",
      "Epoch:01, Mini Batch: 0045, Cost: 2.708, Accuracy: 0.00\n",
      "Epoch:01, Mini Batch: 0046, Cost: 2.708, Accuracy: 0.00\n",
      "Epoch:01, Mini Batch: 0047, Cost: 2.708, Accuracy: 0.00\n",
      "Epoch:01, Mini Batch: 0048, Cost: 2.708, Accuracy: 0.00\n",
      "Epoch:01, Mini Batch: 0049, Cost: 2.708, Accuracy: 0.00\n",
      "Epoch:01, Mini Batch: 0050, Cost: 2.708, Accuracy: 0.00\n",
      "Epoch:01, Mini Batch: 0051, Cost: 2.708, Accuracy: 0.00\n",
      "Epoch:01, Mini Batch: 0052, Cost: 2.708, Accuracy: 0.00\n",
      "Epoch:01, Mini Batch: 0053, Cost: 2.708, Accuracy: 0.00\n",
      "Epoch:01, Mini Batch: 0054, Cost: 2.708, Accuracy: 0.00\n",
      "Epoch:01, Mini Batch: 0055, Cost: 2.708, Accuracy: 0.00\n",
      "Epoch:01, Mini Batch: 0056, Cost: 2.708, Accuracy: 0.00\n",
      "Epoch:01, Mini Batch: 0057, Cost: 2.708, Accuracy: 0.00\n",
      "Epoch:01, Mini Batch: 0058, Cost: 2.708, Accuracy: 0.00\n",
      "Epoch:01, Mini Batch: 0059, Cost: 2.708, Accuracy: 0.00\n",
      "Epoch:01, Mini Batch: 0060, Cost: 2.708, Accuracy: 0.00\n",
      "Epoch:01, Mini Batch: 0061, Cost: 2.708, Accuracy: 0.00\n",
      "Epoch:01, Mini Batch: 0062, Cost: 2.708, Accuracy: 0.00\n",
      "Epoch:01, Mini Batch: 0063, Cost: 2.708, Accuracy: 0.00\n",
      "Epoch:01, Mini Batch: 0064, Cost: 2.708, Accuracy: 0.00\n",
      "Epoch:01, Mini Batch: 0065, Cost: 2.708, Accuracy: 0.00\n",
      "Epoch:01, Mini Batch: 0066, Cost: 2.708, Accuracy: 0.00\n",
      "Epoch:01, Mini Batch: 0067, Cost: 2.708, Accuracy: 0.00\n",
      "Epoch:01, Mini Batch: 0068, Cost: 2.708, Accuracy: 0.00\n",
      "Epoch:01, Mini Batch: 0069, Cost: 2.708, Accuracy: 0.00\n",
      "Epoch:01, Mini Batch: 0070, Cost: 2.708, Accuracy: 0.00\n",
      "Epoch:01, Mini Batch: 0071, Cost: 2.720, Accuracy: 0.10\n",
      "Epoch:01, Mini Batch: 0072, Cost: 2.708, Accuracy: 0.00\n",
      "Epoch:01, Mini Batch: 0073, Cost: 2.708, Accuracy: 0.00\n",
      "Epoch:01, Mini Batch: 0074, Cost: 2.708, Accuracy: 0.00\n",
      "Epoch:01, Mini Batch: 0075, Cost: 2.708, Accuracy: 0.00\n",
      "Epoch:01, Mini Batch: 0076, Cost: 2.708, Accuracy: 0.00\n",
      "Epoch:01, Mini Batch: 0077, Cost: 4.949, Accuracy: 0.00\n",
      "Epoch:01, Mini Batch: 0078, Cost: 2.708, Accuracy: 0.00\n",
      "Epoch:01, Mini Batch: 0079, Cost: 2.708, Accuracy: 0.00\n",
      "Epoch:01, Mini Batch: 0080, Cost: 2.708, Accuracy: 0.00\n",
      "Epoch:01, Mini Batch: 0081, Cost: 2.708, Accuracy: 0.00\n",
      "Epoch:01, Mini Batch: 0082, Cost: 2.708, Accuracy: 0.00\n",
      "Epoch:01, Mini Batch: 0083, Cost: 2.708, Accuracy: 0.00\n",
      "Epoch:01, Mini Batch: 0084, Cost: 2.708, Accuracy: 0.00\n",
      "Epoch:01, Mini Batch: 0085, Cost: 2.708, Accuracy: 0.00\n",
      "Epoch:01, Mini Batch: 0086, Cost: 2.708, Accuracy: 0.00\n",
      "Epoch:01, Mini Batch: 0087, Cost: 2.708, Accuracy: 0.00\n",
      "Epoch:01, Mini Batch: 0088, Cost: 2.708, Accuracy: 0.00\n",
      "Epoch:01, Mini Batch: 0089, Cost: 2.708, Accuracy: 0.00\n",
      "Epoch:01, Mini Batch: 0090, Cost: 2.708, Accuracy: 0.00\n",
      "Epoch:01, Mini Batch: 0091, Cost: 2.708, Accuracy: 0.00\n",
      "Epoch:01, Mini Batch: 0092, Cost: 2.708, Accuracy: 0.00\n",
      "Epoch:01, Mini Batch: 0093, Cost: 2.708, Accuracy: 0.00\n",
      "Epoch:01, Mini Batch: 0094, Cost: 2.708, Accuracy: 0.00\n",
      "Epoch:01, Mini Batch: 0095, Cost: 2.708, Accuracy: 0.00\n",
      "Epoch:01, Mini Batch: 0096, Cost: 2.708, Accuracy: 0.00\n",
      "Epoch:01, Mini Batch: 0097, Cost: 2.708, Accuracy: 0.00\n",
      "Epoch:01, Mini Batch: 0098, Cost: 2.708, Accuracy: 0.00\n",
      "Epoch:01, Mini Batch: 0099, Cost: 2.708, Accuracy: 0.00\n",
      "Epoch:01, Mini Batch: 0100, Cost: 2.708, Accuracy: 0.00\n",
      "Epoch:01, Mini Batch: 0101, Cost: 2.708, Accuracy: 0.00\n",
      "Epoch:01, Mini Batch: 0102, Cost: 2.708, Accuracy: 0.00\n",
      "Epoch:01, Mini Batch: 0103, Cost: 2.708, Accuracy: 0.00\n",
      "Epoch:01, Mini Batch: 0104, Cost: 2.708, Accuracy: 0.00\n",
      "Epoch:01, Mini Batch: 0105, Cost: 2.708, Accuracy: 0.00\n",
      "Epoch:01, Mini Batch: 0106, Cost: 2.708, Accuracy: 0.00\n",
      "Epoch:01, Mini Batch: 0107, Cost: 2.708, Accuracy: 0.00\n",
      "Epoch:01, Mini Batch: 0108, Cost: 2.708, Accuracy: 0.00\n",
      "Epoch:01, Mini Batch: 0109, Cost: 2.708, Accuracy: 0.00\n",
      "Epoch:01, Mini Batch: 0110, Cost: 2.708, Accuracy: 0.00\n",
      "Epoch:01, Mini Batch: 0111, Cost: 2.708, Accuracy: 0.00\n",
      "Epoch:01, Mini Batch: 0112, Cost: 2.708, Accuracy: 0.00\n",
      "Epoch:01, Mini Batch: 0113, Cost: 2.708, Accuracy: 0.00\n",
      "Epoch:01, Mini Batch: 0114, Cost: 2.708, Accuracy: 0.00\n",
      "Epoch:01, Mini Batch: 0115, Cost: 2.708, Accuracy: 0.00\n",
      "Epoch:01, Mini Batch: 0116, Cost: 2.708, Accuracy: 0.00\n",
      "Epoch:01, Mini Batch: 0117, Cost: 2.708, Accuracy: 0.00\n",
      "Epoch:01, Mini Batch: 0118, Cost: 2.708, Accuracy: 0.00\n",
      "Epoch:01, Mini Batch: 0119, Cost: 2.708, Accuracy: 0.00\n",
      "Epoch:01, Mini Batch: 0120, Cost: 2.708, Accuracy: 0.00\n",
      "Epoch:01, Mini Batch: 0121, Cost: 2.708, Accuracy: 0.00\n",
      "Epoch:01, Mini Batch: 0122, Cost: 2.708, Accuracy: 0.00\n",
      "Epoch:01, Mini Batch: 0123, Cost: 2.708, Accuracy: 0.00\n",
      "Epoch:01, Mini Batch: 0124, Cost: 2.708, Accuracy: 0.00\n",
      "Epoch:01, Mini Batch: 0125, Cost: 2.708, Accuracy: 0.00\n",
      "Epoch:01, Mini Batch: 0126, Cost: 2.708, Accuracy: 0.00\n",
      "Epoch:01, Mini Batch: 0127, Cost: 2.708, Accuracy: 0.00\n",
      "Epoch:01, Mini Batch: 0128, Cost: 2.708, Accuracy: 0.00\n",
      "Epoch:01, Mini Batch: 0129, Cost: 2.708, Accuracy: 0.00\n",
      "Epoch:01, Mini Batch: 0130, Cost: 2.708, Accuracy: 0.00\n",
      "Epoch:01, Mini Batch: 0131, Cost: 2.708, Accuracy: 0.00\n",
      "Epoch:01, Mini Batch: 0132, Cost: 2.708, Accuracy: 0.00\n",
      "Epoch:01, Mini Batch: 0133, Cost: 2.708, Accuracy: 0.00\n",
      "Epoch:01, Mini Batch: 0134, Cost: 2.708, Accuracy: 0.00\n",
      "Epoch:01, Mini Batch: 0135, Cost: 2.708, Accuracy: 0.00\n",
      "Epoch:01, Mini Batch: 0136, Cost: 2.708, Accuracy: 0.00\n",
      "Epoch:01, Mini Batch: 0137, Cost: 2.708, Accuracy: 0.00\n",
      "Epoch:01, Mini Batch: 0138, Cost: 2.708, Accuracy: 0.00\n",
      "Epoch:01, Mini Batch: 0139, Cost: 2.708, Accuracy: 0.00\n",
      "Epoch:01, Mini Batch: 0140, Cost: 2.708, Accuracy: 0.00\n",
      "Epoch:01, Mini Batch: 0141, Cost: 2.708, Accuracy: 0.00\n",
      "Epoch:01, Mini Batch: 0142, Cost: 2.708, Accuracy: 0.00\n",
      "Epoch:01, Mini Batch: 0143, Cost: 2.708, Accuracy: 0.00\n",
      "Epoch:01, Mini Batch: 0144, Cost: 2.708, Accuracy: 0.00\n",
      "Epoch:01, Mini Batch: 0145, Cost: 2.708, Accuracy: 0.00\n"
     ]
    },
    {
     "name": "stdout",
     "output_type": "stream",
     "text": [
      "Epoch:01, Mini Batch: 0146, Cost: 2.708, Accuracy: 0.00\n",
      "Epoch:01, Mini Batch: 0147, Cost: 2.708, Accuracy: 0.00\n",
      "Epoch:01, Mini Batch: 0148, Cost: 2.708, Accuracy: 0.00\n",
      "Epoch:01, Mini Batch: 0149, Cost: 2.708, Accuracy: 0.00\n",
      "Epoch:01, Mini Batch: 0150, Cost: 2.708, Accuracy: 0.00\n",
      "Epoch:01, Mini Batch: 0151, Cost: 2.708, Accuracy: 0.00\n",
      "Epoch:01, Mini Batch: 0152, Cost: 2.708, Accuracy: 0.00\n",
      "Epoch:01, Mini Batch: 0153, Cost: 2.708, Accuracy: 0.00\n",
      "Epoch:01, Mini Batch: 0154, Cost: 2.708, Accuracy: 0.00\n",
      "Epoch:01, Mini Batch: 0155, Cost: 2.708, Accuracy: 0.00\n",
      "Epoch:01, Mini Batch: 0156, Cost: 2.708, Accuracy: 0.00\n",
      "Epoch:01, Mini Batch: 0157, Cost: 2.708, Accuracy: 0.00\n",
      "Epoch:01, Mini Batch: 0158, Cost: 2.708, Accuracy: 0.00\n",
      "Epoch:01, Mini Batch: 0159, Cost: 2.708, Accuracy: 0.00\n",
      "Epoch:01, Mini Batch: 0160, Cost: 2.708, Accuracy: 0.00\n",
      "Epoch:01, Mini Batch: 0161, Cost: 2.708, Accuracy: 0.00\n",
      "Epoch:01, Mini Batch: 0162, Cost: 2.708, Accuracy: 0.00\n",
      "Epoch:01, Mini Batch: 0163, Cost: 2.708, Accuracy: 0.00\n",
      "Epoch:01, Mini Batch: 0164, Cost: 2.708, Accuracy: 0.00\n",
      "Epoch:01, Mini Batch: 0165, Cost: 2.708, Accuracy: 0.00\n",
      "Epoch:01, Mini Batch: 0166, Cost: 2.708, Accuracy: 0.00\n",
      "Epoch:01, Mini Batch: 0167, Cost: 2.708, Accuracy: 0.00\n",
      "Epoch:01, Mini Batch: 0168, Cost: 2.708, Accuracy: 0.00\n",
      "Epoch:01, Mini Batch: 0169, Cost: 2.708, Accuracy: 0.00\n",
      "Epoch:01, Mini Batch: 0170, Cost: 2.708, Accuracy: 0.00\n",
      "Epoch:01, Mini Batch: 0171, Cost: 2.708, Accuracy: 0.00\n",
      "Epoch:01, Mini Batch: 0172, Cost: 2.708, Accuracy: 0.00\n",
      "Epoch:01, Mini Batch: 0173, Cost: 2.708, Accuracy: 0.00\n",
      "Epoch:01, Mini Batch: 0174, Cost: 2.708, Accuracy: 0.00\n",
      "Epoch:01, Mini Batch: 0175, Cost: 2.708, Accuracy: 0.00\n",
      "Epoch:01, Mini Batch: 0176, Cost: 2.708, Accuracy: 0.00\n",
      "Epoch:01, Mini Batch: 0177, Cost: 2.708, Accuracy: 0.00\n",
      "Epoch:01, Mini Batch: 0178, Cost: 2.708, Accuracy: 0.00\n",
      "Epoch:01, Mini Batch: 0179, Cost: 2.708, Accuracy: 0.00\n",
      "Epoch:01, Mini Batch: 0180, Cost: 2.708, Accuracy: 0.00\n",
      "Epoch:01, Mini Batch: 0181, Cost: 2.708, Accuracy: 0.00\n",
      "Epoch:01, Mini Batch: 0182, Cost: 2.708, Accuracy: 0.00\n"
     ]
    },
    {
     "ename": "KeyboardInterrupt",
     "evalue": "",
     "output_type": "error",
     "traceback": [
      "\u001b[0;31m---------------------------------------------------------------------------\u001b[0m",
      "\u001b[0;31mKeyboardInterrupt\u001b[0m                         Traceback (most recent call last)",
      "\u001b[0;32m<ipython-input-15-aca074adcbb3>\u001b[0m in \u001b[0;36m<module>\u001b[0;34m()\u001b[0m\n\u001b[1;32m     39\u001b[0m \u001b[0;34m\u001b[0m\u001b[0m\n\u001b[1;32m     40\u001b[0m         \u001b[0;31m# 학습 - cost optimization\u001b[0m\u001b[0;34m\u001b[0m\u001b[0;34m\u001b[0m\u001b[0m\n\u001b[0;32m---> 41\u001b[0;31m         \u001b[0m_\u001b[0m\u001b[0;34m,\u001b[0m \u001b[0mcost_val\u001b[0m\u001b[0;34m,\u001b[0m \u001b[0moutput\u001b[0m \u001b[0;34m=\u001b[0m \u001b[0msess\u001b[0m\u001b[0;34m.\u001b[0m\u001b[0mrun\u001b[0m\u001b[0;34m(\u001b[0m\u001b[0;34m[\u001b[0m\u001b[0mtraining\u001b[0m\u001b[0;34m,\u001b[0m \u001b[0mcost\u001b[0m\u001b[0;34m,\u001b[0m \u001b[0mmodel\u001b[0m\u001b[0;34m]\u001b[0m\u001b[0;34m,\u001b[0m \u001b[0mfeed_dict\u001b[0m\u001b[0;34m=\u001b[0m\u001b[0;34m{\u001b[0m\u001b[0mX\u001b[0m\u001b[0;34m:\u001b[0m\u001b[0mx_hot_train\u001b[0m\u001b[0;34m,\u001b[0m \u001b[0mY\u001b[0m\u001b[0;34m:\u001b[0m\u001b[0my_hot_train\u001b[0m\u001b[0;34m}\u001b[0m\u001b[0;34m)\u001b[0m\u001b[0;34m\u001b[0m\u001b[0m\n\u001b[0m\u001b[1;32m     42\u001b[0m \u001b[0;34m\u001b[0m\u001b[0m\n\u001b[1;32m     43\u001b[0m         \u001b[0;31m# 정확도 계산\u001b[0m\u001b[0;34m\u001b[0m\u001b[0;34m\u001b[0m\u001b[0m\n",
      "\u001b[0;32m~/.pyenv/versions/anaconda3/envs/tfp3/lib/python3.6/site-packages/tensorflow/python/client/session.py\u001b[0m in \u001b[0;36mrun\u001b[0;34m(self, fetches, feed_dict, options, run_metadata)\u001b[0m\n\u001b[1;32m    887\u001b[0m     \u001b[0;32mtry\u001b[0m\u001b[0;34m:\u001b[0m\u001b[0;34m\u001b[0m\u001b[0m\n\u001b[1;32m    888\u001b[0m       result = self._run(None, fetches, feed_dict, options_ptr,\n\u001b[0;32m--> 889\u001b[0;31m                          run_metadata_ptr)\n\u001b[0m\u001b[1;32m    890\u001b[0m       \u001b[0;32mif\u001b[0m \u001b[0mrun_metadata\u001b[0m\u001b[0;34m:\u001b[0m\u001b[0;34m\u001b[0m\u001b[0m\n\u001b[1;32m    891\u001b[0m         \u001b[0mproto_data\u001b[0m \u001b[0;34m=\u001b[0m \u001b[0mtf_session\u001b[0m\u001b[0;34m.\u001b[0m\u001b[0mTF_GetBuffer\u001b[0m\u001b[0;34m(\u001b[0m\u001b[0mrun_metadata_ptr\u001b[0m\u001b[0;34m)\u001b[0m\u001b[0;34m\u001b[0m\u001b[0m\n",
      "\u001b[0;32m~/.pyenv/versions/anaconda3/envs/tfp3/lib/python3.6/site-packages/tensorflow/python/client/session.py\u001b[0m in \u001b[0;36m_run\u001b[0;34m(self, handle, fetches, feed_dict, options, run_metadata)\u001b[0m\n\u001b[1;32m   1118\u001b[0m     \u001b[0;32mif\u001b[0m \u001b[0mfinal_fetches\u001b[0m \u001b[0;32mor\u001b[0m \u001b[0mfinal_targets\u001b[0m \u001b[0;32mor\u001b[0m \u001b[0;34m(\u001b[0m\u001b[0mhandle\u001b[0m \u001b[0;32mand\u001b[0m \u001b[0mfeed_dict_tensor\u001b[0m\u001b[0;34m)\u001b[0m\u001b[0;34m:\u001b[0m\u001b[0;34m\u001b[0m\u001b[0m\n\u001b[1;32m   1119\u001b[0m       results = self._do_run(handle, final_targets, final_fetches,\n\u001b[0;32m-> 1120\u001b[0;31m                              feed_dict_tensor, options, run_metadata)\n\u001b[0m\u001b[1;32m   1121\u001b[0m     \u001b[0;32melse\u001b[0m\u001b[0;34m:\u001b[0m\u001b[0;34m\u001b[0m\u001b[0m\n\u001b[1;32m   1122\u001b[0m       \u001b[0mresults\u001b[0m \u001b[0;34m=\u001b[0m \u001b[0;34m[\u001b[0m\u001b[0;34m]\u001b[0m\u001b[0;34m\u001b[0m\u001b[0m\n",
      "\u001b[0;32m~/.pyenv/versions/anaconda3/envs/tfp3/lib/python3.6/site-packages/tensorflow/python/client/session.py\u001b[0m in \u001b[0;36m_do_run\u001b[0;34m(self, handle, target_list, fetch_list, feed_dict, options, run_metadata)\u001b[0m\n\u001b[1;32m   1315\u001b[0m     \u001b[0;32mif\u001b[0m \u001b[0mhandle\u001b[0m \u001b[0;32mis\u001b[0m \u001b[0;32mNone\u001b[0m\u001b[0;34m:\u001b[0m\u001b[0;34m\u001b[0m\u001b[0m\n\u001b[1;32m   1316\u001b[0m       return self._do_call(_run_fn, self._session, feeds, fetches, targets,\n\u001b[0;32m-> 1317\u001b[0;31m                            options, run_metadata)\n\u001b[0m\u001b[1;32m   1318\u001b[0m     \u001b[0;32melse\u001b[0m\u001b[0;34m:\u001b[0m\u001b[0;34m\u001b[0m\u001b[0m\n\u001b[1;32m   1319\u001b[0m       \u001b[0;32mreturn\u001b[0m \u001b[0mself\u001b[0m\u001b[0;34m.\u001b[0m\u001b[0m_do_call\u001b[0m\u001b[0;34m(\u001b[0m\u001b[0m_prun_fn\u001b[0m\u001b[0;34m,\u001b[0m \u001b[0mself\u001b[0m\u001b[0;34m.\u001b[0m\u001b[0m_session\u001b[0m\u001b[0;34m,\u001b[0m \u001b[0mhandle\u001b[0m\u001b[0;34m,\u001b[0m \u001b[0mfeeds\u001b[0m\u001b[0;34m,\u001b[0m \u001b[0mfetches\u001b[0m\u001b[0;34m)\u001b[0m\u001b[0;34m\u001b[0m\u001b[0m\n",
      "\u001b[0;32m~/.pyenv/versions/anaconda3/envs/tfp3/lib/python3.6/site-packages/tensorflow/python/client/session.py\u001b[0m in \u001b[0;36m_do_call\u001b[0;34m(self, fn, *args)\u001b[0m\n\u001b[1;32m   1321\u001b[0m   \u001b[0;32mdef\u001b[0m \u001b[0m_do_call\u001b[0m\u001b[0;34m(\u001b[0m\u001b[0mself\u001b[0m\u001b[0;34m,\u001b[0m \u001b[0mfn\u001b[0m\u001b[0;34m,\u001b[0m \u001b[0;34m*\u001b[0m\u001b[0margs\u001b[0m\u001b[0;34m)\u001b[0m\u001b[0;34m:\u001b[0m\u001b[0;34m\u001b[0m\u001b[0m\n\u001b[1;32m   1322\u001b[0m     \u001b[0;32mtry\u001b[0m\u001b[0;34m:\u001b[0m\u001b[0;34m\u001b[0m\u001b[0m\n\u001b[0;32m-> 1323\u001b[0;31m       \u001b[0;32mreturn\u001b[0m \u001b[0mfn\u001b[0m\u001b[0;34m(\u001b[0m\u001b[0;34m*\u001b[0m\u001b[0margs\u001b[0m\u001b[0;34m)\u001b[0m\u001b[0;34m\u001b[0m\u001b[0m\n\u001b[0m\u001b[1;32m   1324\u001b[0m     \u001b[0;32mexcept\u001b[0m \u001b[0merrors\u001b[0m\u001b[0;34m.\u001b[0m\u001b[0mOpError\u001b[0m \u001b[0;32mas\u001b[0m \u001b[0me\u001b[0m\u001b[0;34m:\u001b[0m\u001b[0;34m\u001b[0m\u001b[0m\n\u001b[1;32m   1325\u001b[0m       \u001b[0mmessage\u001b[0m \u001b[0;34m=\u001b[0m \u001b[0mcompat\u001b[0m\u001b[0;34m.\u001b[0m\u001b[0mas_text\u001b[0m\u001b[0;34m(\u001b[0m\u001b[0me\u001b[0m\u001b[0;34m.\u001b[0m\u001b[0mmessage\u001b[0m\u001b[0;34m)\u001b[0m\u001b[0;34m\u001b[0m\u001b[0m\n",
      "\u001b[0;32m~/.pyenv/versions/anaconda3/envs/tfp3/lib/python3.6/site-packages/tensorflow/python/client/session.py\u001b[0m in \u001b[0;36m_run_fn\u001b[0;34m(session, feed_dict, fetch_list, target_list, options, run_metadata)\u001b[0m\n\u001b[1;32m   1300\u001b[0m           return tf_session.TF_Run(session, options,\n\u001b[1;32m   1301\u001b[0m                                    \u001b[0mfeed_dict\u001b[0m\u001b[0;34m,\u001b[0m \u001b[0mfetch_list\u001b[0m\u001b[0;34m,\u001b[0m \u001b[0mtarget_list\u001b[0m\u001b[0;34m,\u001b[0m\u001b[0;34m\u001b[0m\u001b[0m\n\u001b[0;32m-> 1302\u001b[0;31m                                    status, run_metadata)\n\u001b[0m\u001b[1;32m   1303\u001b[0m \u001b[0;34m\u001b[0m\u001b[0m\n\u001b[1;32m   1304\u001b[0m     \u001b[0;32mdef\u001b[0m \u001b[0m_prun_fn\u001b[0m\u001b[0;34m(\u001b[0m\u001b[0msession\u001b[0m\u001b[0;34m,\u001b[0m \u001b[0mhandle\u001b[0m\u001b[0;34m,\u001b[0m \u001b[0mfeed_dict\u001b[0m\u001b[0;34m,\u001b[0m \u001b[0mfetch_list\u001b[0m\u001b[0;34m)\u001b[0m\u001b[0;34m:\u001b[0m\u001b[0;34m\u001b[0m\u001b[0m\n",
      "\u001b[0;31mKeyboardInterrupt\u001b[0m: "
     ]
    }
   ],
   "source": [
    "init = tf.global_variables_initializer()\n",
    "sess = tf.Session()\n",
    "sess.run(init)\n",
    "\n",
    "merged = tf.summary.merge_all()\n",
    "writer = tf.summary.FileWriter('logs', sess.graph)\n",
    "\n",
    "batch_size = 10\n",
    "total_batch = int(large_train_x.shape[0] / batch_size)\n",
    "\n",
    "print(\"total batch: %d\" % total_batch)\n",
    "\n",
    "for epoch in range(2):\n",
    "    for b in range(total_batch):\n",
    "        minibatch_x = large_train_x[b*batch_size : (b+1)*batch_size]\n",
    "        minibatch_y = large_train_y[b*batch_size : (b+1)*batch_size]\n",
    "        \n",
    "        # 알파벳은 모두 대문자로 치환 / 제목+본문을 합하여 문장을 만든다.\n",
    "        minibatch_x = np.char.upper(v_concat_col(minibatch_x[:,0], minibatch_x[:,1]))\n",
    "#        print(minibatch_x[0])\n",
    "#        print(minibatch_y[0])\n",
    "\n",
    "        # 알파벳을 ASCII DEC 값으로 변환한다.\n",
    "        minibatch_x = np.array(list(char_processor.fit_transform(minibatch_x)))\n",
    "#        print(minibatch_x[0])\n",
    "#        print(minibatch_y[0])\n",
    "\n",
    "        # ONE-HOT-ENCODING\n",
    "        x_hot_train = np.zeros([batch_size, MAX_DOCUMENT_LENGTH, NUM_ALPHABET])\n",
    "        for i in range(batch_size):\n",
    "            x_hot_train[i][np.arange(MAX_DOCUMENT_LENGTH), minibatch_x] = 1\n",
    "        x_hot_train = x_hot_train.reshape(-1, 1, MAX_DOCUMENT_LENGTH, NUM_ALPHABET)\n",
    "#        print(x_hot_train.shape)\n",
    "        \n",
    "        y_hot_train = np.zeros([batch_size, NUM_LABEL])\n",
    "        y_hot_train[np.arange(batch_size), minibatch_y] = 1\n",
    "#        print(x_hot_train[0])\n",
    "#        print(y_hot_train[0])\n",
    "        \n",
    "        # 학습 - cost optimization\n",
    "        _, cost_val, output = sess.run([training, cost, model], feed_dict={X:x_hot_train, Y:y_hot_train})\n",
    "        \n",
    "        # 정확도 계산\n",
    "        prediction = np.argmax(output, 1)\n",
    "        accuracy = np.mean(prediction == minibatch_y)\n",
    "        print(\"Epoch:%02d, Mini Batch: %04d, Cost: %.3f, Accuracy: %.2f\" % (epoch+1, b, cost_val, accuracy))\n",
    "        \n",
    "        summary = sess.run(merged, feed_dict={X:x_hot_train, Y:y_hot_train})\n",
    "        writer.add_summary(summary, global_step=sess.run(global_step))"
   ]
  },
  {
   "cell_type": "code",
   "execution_count": 24,
   "metadata": {},
   "outputs": [
    {
     "name": "stdout",
     "output_type": "stream",
     "text": [
      "(1, 1, 2, 3)\n",
      "Tensor(\"Const_5:0\", shape=(1, 1, 2, 3), dtype=float32)\n",
      "[[[[ 1.  2.  3.]\n",
      "   [ 4.  5.  6.]]]]\n"
     ]
    }
   ],
   "source": [
    "data = [[[[1,2,3],[4,5,6]]]]\n",
    "data_np = np.asarray(data, np.float32)\n",
    "print(data_np.shape)\n",
    "\n",
    "data_tf = tf.convert_to_tensor(data_np, np.float32)\n",
    "print(data_tf)\n",
    "\n",
    "sxs = tf.InteractiveSession()  \n",
    "print(data_tf.eval())\n",
    "sxs.close()"
   ]
  },
  {
   "cell_type": "code",
   "execution_count": null,
   "metadata": {},
   "outputs": [],
   "source": []
  }
 ],
 "metadata": {
  "kernelspec": {
   "display_name": "Python 3",
   "language": "python",
   "name": "python3"
  },
  "language_info": {
   "codemirror_mode": {
    "name": "ipython",
    "version": 3
   },
   "file_extension": ".py",
   "mimetype": "text/x-python",
   "name": "python",
   "nbconvert_exporter": "python",
   "pygments_lexer": "ipython3",
   "version": "3.6.4"
  }
 },
 "nbformat": 4,
 "nbformat_minor": 2
}
